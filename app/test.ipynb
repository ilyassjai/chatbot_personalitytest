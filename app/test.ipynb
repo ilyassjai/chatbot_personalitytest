{
 "cells": [
  {
   "cell_type": "code",
   "execution_count": 5,
   "metadata": {},
   "outputs": [
    {
     "data": {
      "text/plain": [
       "(221,\n",
       " b'2.0.0 closing connection s8-20020a170906500800b00a4e24d259edsm3422377ejj.167 - gsmtp')"
      ]
     },
     "execution_count": 5,
     "metadata": {},
     "output_type": "execute_result"
    }
   ],
   "source": [
    "import smtplib\n",
    "from email.mime.multipart import MIMEMultipart\n",
    "from email.mime.text import MIMEText\n",
    "from dotenv import load_dotenv\n",
    "import os\n",
    "\n",
    "password=os.getenv(\"EMAIL_PASSWORD\")\n",
    "\n",
    "# setup the parameters of the message\n",
    "\n",
    "msg = MIMEMultipart()\n",
    "msg['From'] = os.getenv(\"EMAIL_ADDRESS\")\n",
    "msg['To'] = \"marouanetalaa101@gmail.com\"\n",
    "msg['Subject'] = \"Test Email\"\n",
    "\n",
    "# add in the message body\n",
    "msg.attach(MIMEText(\"This is a test email\", 'plain'))\n",
    "\n",
    "# create server\n",
    "server = smtplib.SMTP('smtp.gmail.com: 587')\n",
    "\n",
    "server.starttls()\n",
    "\n",
    "# Login Credentials for sending the mail\n",
    "server.login(msg['From'], password)\n",
    "\n",
    "# send the message via the server\n",
    "server.sendmail(msg['From'], msg['To'], msg.as_string())\n",
    "\n",
    "server.quit()"
   ]
  },
  {
   "cell_type": "code",
   "execution_count": null,
   "metadata": {},
   "outputs": [],
   "source": []
  }
 ],
 "metadata": {
  "kernelspec": {
   "display_name": "Python 3",
   "language": "python",
   "name": "python3"
  },
  "language_info": {
   "codemirror_mode": {
    "name": "ipython",
    "version": 3
   },
   "file_extension": ".py",
   "mimetype": "text/x-python",
   "name": "python",
   "nbconvert_exporter": "python",
   "pygments_lexer": "ipython3",
   "version": "3.9.13"
  }
 },
 "nbformat": 4,
 "nbformat_minor": 2
}
